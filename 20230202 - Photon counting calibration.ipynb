{
 "cells": [
  {
   "cell_type": "code",
   "execution_count": 1,
   "id": "aeb94d3e",
   "metadata": {},
   "outputs": [],
   "source": [
    "import numpy as np\n",
    "import scipy as sp\n",
    "import matplotlib.pyplot as plt\n",
    "from qopt import lecroy\n",
    "import os"
   ]
  },
  {
   "cell_type": "code",
   "execution_count": 2,
   "id": "1bac221c",
   "metadata": {},
   "outputs": [],
   "source": [
    "#Functions\n",
    "def compare(value, list0):\n",
    "    x = max(list0)\n",
    "    if x >= value:\n",
    "        return 1\n",
    "    else:\n",
    "        return 0"
   ]
  },
  {
   "cell_type": "markdown",
   "id": "af1570fd",
   "metadata": {},
   "source": [
    "# Load data"
   ]
  },
  {
   "cell_type": "code",
   "execution_count": 3,
   "id": "d0d8720b",
   "metadata": {},
   "outputs": [
    {
     "name": "stderr",
     "output_type": "stream",
     "text": [
      "<ipython-input-3-7ca796b03aba>:9: DeprecationWarning: scipy.array is deprecated and will be removed in SciPy 2.0.0, use numpy.array instead\n",
      "  click_file = sp.array([os.path.join(path, f) for f in sorted(os.listdir(path)) if 'click' in f])\n",
      "<ipython-input-3-7ca796b03aba>:10: DeprecationWarning: scipy.array is deprecated and will be removed in SciPy 2.0.0, use numpy.array instead\n",
      "  eom_file = sp.array([os.path.join(path, f) for f in sorted(os.listdir(path)) if 'eom' in f])\n"
     ]
    },
    {
     "data": {
      "image/png": "[encoded data removed]",
      "text/plain": [
       "<Figure size 432x288 with 1 Axes>"
      ]
     },
     "metadata": {
      "needs_background": "light"
     },
     "output_type": "display_data"
    }
   ],
   "source": [
    "#SSPD signals should be named 'click' + '[value on matlab sent to EOM]' + '.trc'\n",
    "#EOM signals should be saved with 'eom' on name\n",
    "\n",
    "date = '20230202//'\n",
    "extra = 'data//'\n",
    "\n",
    "path = os.path.join(date, extra)\n",
    "\n",
    "click_file = sp.array([os.path.join(path, f) for f in sorted(os.listdir(path)) if 'click' in f])\n",
    "eom_file = sp.array([os.path.join(path, f) for f in sorted(os.listdir(path)) if 'eom' in f])\n",
    "\n",
    "matlab_set_str = []\n",
    "for i in range(len(click_file)):\n",
    "    click_name = click_file[i].find('click') + len('click')\n",
    "    ext_name = click_file[i].find('.trc')\n",
    "    matlab_set_str.append(click_file[i][click_name:ext_name])\n",
    "matlab_set_int = []\n",
    "for k, name in enumerate(matlab_set_str):\n",
    "    if name == 'fake':\n",
    "        matlab_set_int.append(0)\n",
    "    else:\n",
    "        matlab_set_int.append(int(matlab_set_str[k]))\n",
    "max_set_index = matlab_set_int.index(max(matlab_set_int))\n",
    "fake_index = [k for k, val in enumerate(click_file) if 'fake' in val][0]\n",
    "\n",
    "_click_data = []\n",
    "click_data = []\n",
    "eom_data = []\n",
    "for j in range(len(click_file)):\n",
    "    _click_data.append(lecroy.read(click_file[j]))\n",
    "    click_data.append(lecroy.read(click_file[j])[2])\n",
    "    eom_data.append(lecroy.read(eom_file[j])[2])\n",
    "    \n",
    "metadata = _click_data[0][0]\n",
    "        \n",
    "Ts = metadata['horiz_interval']\n",
    "all_points = metadata['wave_array_count']\n",
    "sequences = metadata['subarray_count']\n",
    "points_per_seq = int(all_points/sequences)\n",
    "horiz_offset = metadata['horiz_offset']\n",
    "time = np.linspace(horiz_offset, horiz_offset + points_per_seq*Ts, points_per_seq)\n",
    "\n",
    "test_data = max_set_index\n",
    "test_sequence = 30\n",
    "plt.figure()\n",
    "plt.plot(time, click_data[test_data][test_sequence], 'm')\n",
    "#plt.plot(time, eom_data[test_data][test_sequence], 'c')\n",
    "plt.xlabel('Time (s)')\n",
    "plt.ylabel('Voltage (V)')\n",
    "plt.show()"
   ]
  },
  {
   "cell_type": "markdown",
   "id": "00f8d5c3",
   "metadata": {},
   "source": [
    "# Find EOM peaks"
   ]
  },
  {
   "cell_type": "code",
   "execution_count": 4,
   "id": "613121c3",
   "metadata": {},
   "outputs": [
    {
     "name": "stdout",
     "output_type": "stream",
     "text": [
      "Peak time:  1540.2471642389858 ns\n",
      "Peak time:  2340.2471749201313 ns\n"
     ]
    }
   ],
   "source": [
    "beta = True\n",
    "eom_peaks = []\n",
    "\n",
    "eom_mean = np.mean(eom_data[max_set_index][0])\n",
    "value_above_mean = 0.1\n",
    "\n",
    "peak_index = next(k for k, val in enumerate(eom_data[max_set_index][0]) if val > eom_mean + value_above_mean)\n",
    "eom_peaks.append(peak_index)\n",
    "\n",
    "if beta:\n",
    "    between_index = int(7*10**(-7)/Ts)\n",
    "    peak_index += between_index + next(k for k, val in enumerate(eom_data[max_set_index][0][(peak_index+between_index):]) if val > eom_mean + value_above_mean)\n",
    "    eom_peaks.append(peak_index)\n",
    "    \n",
    "for index in eom_peaks:\n",
    "    peak_time = (horiz_offset + index*Ts)*10**9\n",
    "    print('Peak time: ', peak_time, \"ns\")"
   ]
  },
  {
   "cell_type": "markdown",
   "id": "328f323b",
   "metadata": {},
   "source": [
    "# Find photon clicks"
   ]
  },
  {
   "cell_type": "code",
   "execution_count": 5,
   "id": "3cdc46da",
   "metadata": {},
   "outputs": [
    {
     "name": "stdout",
     "output_type": "stream",
     "text": [
      "[116. 434. 484. 500. 143. 161. 196. 239. 263. 306. 372. 411. 117.]\n",
      "[0.058, 0.217, 0.242, 0.25, 0.0715, 0.0805, 0.098, 0.1195, 0.1315, 0.153, 0.186, 0.2055, 0.0585]\n"
     ]
    }
   ],
   "source": [
    "delay_time = 900 #ns\n",
    "delay_points = int(delay_time*10**(-9)/Ts)\n",
    "\n",
    "window_time = 200 #ns\n",
    "window_points = int(window_time*10**(-9)/Ts)\n",
    "\n",
    "clicks = np.zeros(len(click_data))\n",
    "\n",
    "click_mean = np.mean(click_data[fake_index][0])\n",
    "\n",
    "for i in range(len(click_data)):\n",
    "    for j in range(len(eom_peaks)):\n",
    "        start = eom_peaks[j] + delay_points - int(window_points/2)\n",
    "        stop = start + int(window_points)\n",
    "        for k in range(len(click_data[i])):\n",
    "            clicks[i] += compare(0.005 + click_mean, click_data[i][k][start:stop])\n",
    "print(clicks)\n",
    "\n",
    "click_rate = [a/(2*len(click_data[0])) for a in clicks]\n",
    "click_percent = [100*x for x in click_rate]\n",
    "print(click_rate)"
   ]
  },
  {
   "cell_type": "code",
   "execution_count": 6,
   "id": "e1ebfd25",
   "metadata": {},
   "outputs": [
    {
     "name": "stdout",
     "output_type": "stream",
     "text": [
      "0.14785621103378865 0.3573949669440664\n"
     ]
    }
   ],
   "source": [
    "alpha_amp = 0.4\n",
    "beta_amp = 0.665\n",
    "alpha_percent = 100*(1 - np.exp(-alpha_amp**2))\n",
    "beta_percent = 100*(1 - np.exp(-beta_amp**2))\n",
    "print(alpha_percent/100, beta_percent/100)"
   ]
  },
  {
   "cell_type": "code",
   "execution_count": 7,
   "id": "2989cc8d",
   "metadata": {},
   "outputs": [
    {
     "data": {
      "image/png": "[encoded data removed]",
      "text/plain": [
       "<Figure size 720x576 with 1 Axes>"
      ]
     },
     "metadata": {
      "needs_background": "light"
     },
     "output_type": "display_data"
    }
   ],
   "source": [
    "plt.figure(figsize = (10, 8))\n",
    "plt.plot(matlab_set_int, click_percent, 'mo')\n",
    "plt.axhline(y = alpha_percent, color = 'salmon', label = 'alpha')\n",
    "plt.axhline(y = beta_percent, color = 'c', label = 'beta')\n",
    "plt.xlabel('Matlab setting to EOMs')\n",
    "plt.ylabel('Click rate (%)')\n",
    "plt.title(str(sequences) + ' sequences, ' + str(window_time) + ' ns window time, ' + str(delay_time) + ' ns delay time')\n",
    "plt.legend()\n",
    "plt.tight_layout\n",
    "plt.savefig(os.path.join(date, 'figures//', str(window_time) + 'wt_clickrate'), dpi = 1000)\n",
    "plt.show()"
   ]
  },
  {
   "cell_type": "code",
   "execution_count": null,
   "id": "c1230fc6",
   "metadata": {},
   "outputs": [],
   "source": []
  }
 ],
 "metadata": {
  "kernelspec": {
   "display_name": "Python 3 (ipykernel)",
   "language": "python",
   "name": "python3"
  },
  "language_info": {
   "codemirror_mode": {
    "name": "ipython",
    "version": 3
   },
   "file_extension": ".py",
   "mimetype": "text/x-python",
   "name": "python",
   "nbconvert_exporter": "python",
   "pygments_lexer": "ipython3",
   "version": "3.8.5"
  }
 },
 "nbformat": 4,
 "nbformat_minor": 5
}
